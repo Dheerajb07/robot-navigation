{
  "nbformat": 4,
  "nbformat_minor": 0,
  "metadata": {
    "colab": {
      "provenance": []
    },
    "kernelspec": {
      "name": "python3",
      "display_name": "Python 3"
    },
    "language_info": {
      "name": "python"
    }
  },
  "cells": [
    {
      "cell_type": "markdown",
      "source": [
        "# Task 1\n",
        "The probabilities derived from the measurement model indicate higher reliability (80%) when the sensor measures a closed door, as opposed to a lower certainty (60%) when measuring an open door.\n",
        "\n",
        "Mathematical representations of the propagation model are given below:\n",
        "\n",
        "\n",
        "1. If $x_{t-1} = 1$ (door open) and $u_t = 1$ (Push):\n",
        "> $p(X_t = 1 | U_t = 1, X_{t-1} = 1) = 1$\\\n",
        "> $p(X_t = 0 | U_t = 1, X_{t-1} = 1) = 0$\n",
        "\n",
        "2. If $x_{t-1} = 0$ (door closed) and $u_t = 1$ (Push):\n",
        "> $p(X_t = 1 | U_t = 1, X_{t-1} = 0) = 0.8$\\\n",
        "> $p(X_t = 0 | U_t = 1, X_{t-1} = 0) = 0.2$\n",
        "\n",
        "3. If $x_{t-1} = 1$ (door open) and $u_t = 0$ (Do Nothing):\n",
        "> $p(X_t = 1 | U_t = 0, X_{t-1} = 1) = 1$\\\n",
        "> $p(X_t = 0 | U_t = 0, X_{t-1} = 1) = 0$\n",
        "\n",
        "4. If $x_{t-1} = 0$ (door closed) and $u_t = 0$ (Do Nothing):\n",
        "> $p(X_t = 1 | U_t = 0, X_{t-1} = 0) = 0$\\\n",
        "> $p(X_t = 0 | U_t = 0, X_{t-1} = 0) = 1$\n",
        "\n",
        "This model indicates that if the door is closed and the robot pushes, there's a 0.8 probability that it opens and a 0.2 probability that the door remains closed. If the robot takes no action, the door's state remains the same. Similarly if the robot pushes and the door is already open, the door stays open."
      ],
      "metadata": {
        "id": "WzQCQWiNgO12"
      }
    },
    {
      "cell_type": "markdown",
      "source": [
        "# Task 2\n",
        "Bayes Filter Implementation"
      ],
      "metadata": {
        "id": "IfJtUMAWGd8a"
      }
    },
    {
      "cell_type": "code",
      "source": [
        "import numpy as np\n",
        "\n",
        "def prediction(prior_belief,action):\n",
        "  \"\"\"\n",
        "  Perform the prediction step of the Bayes Filter algorithm.\n",
        "\n",
        "  Input:\n",
        "  - prior_belief (numpy array): Prior belief about the state probabilities [P(x_t=0), P(x_t=1)].\n",
        "  - action (int): Action taken by the robot (0 for do nothing, 1 for push).\n",
        "\n",
        "  Returns:\n",
        "  - predicted_belief (numpy array): Predicted belief after the prediction step [P(x_t=0), P(x_t=1)].\n",
        "  \"\"\"\n",
        "  # define propagation model probabilities\n",
        "  p_xt_ut_xt_1 = np.array([[[1,0]    , [0,1]],    # [ p(xt | u=0, xt_1=0) , p(xt | u=0, xt_1=1)\n",
        "                          [[0.2,0.8], [0,1]]]);   #   p(xt | u=1, xt_1=0) , p(xt | u=1, xt_1=1) ]\n",
        "\n",
        "  # predict belief based on action\n",
        "  predicted_belief =  np.dot(p_xt_ut_xt_1[action].transpose(),prior_belief)\n",
        "\n",
        "  return predicted_belief"
      ],
      "metadata": {
        "id": "Va6AAPpgN0VP"
      },
      "execution_count": 103,
      "outputs": []
    },
    {
      "cell_type": "code",
      "source": [
        "def update(predicted_belief,measurement):\n",
        "  \"\"\"\n",
        "  Perform the measurement update step of the Bayes Filter algorithm.\n",
        "\n",
        "  Input:\n",
        "  - predicted_belief (numpy array): Predicted belief before the measurement update.\n",
        "  - measurement (int): Measurement received from the sensor (0 for closed, 1 for open).\n",
        "\n",
        "  Returns:\n",
        "  - updated_belief (numpy array): Updated belief after the measurement update.\n",
        "  \"\"\"\n",
        "  # define sensor model probabilities\n",
        "  p_zt_xt = np.array([[0.8,0.4],    #[ p(zt=0 | xt=0) , p(zt=0 | xt=1)\n",
        "                      [0.2,0.6]])   #  p(zt=1 | xt=0) , p(zt=1 | xt=1) ]\n",
        "\n",
        "  # update belief using the measurement\n",
        "  updated_belief = p_zt_xt[measurement]*predicted_belief\n",
        "  updated_belief /= np.sum(updated_belief)\n",
        "\n",
        "  return updated_belief"
      ],
      "metadata": {
        "id": "nIcGzfoRWkWl"
      },
      "execution_count": 104,
      "outputs": []
    },
    {
      "cell_type": "code",
      "source": [
        "def bayes_filter(initial_belief,actions,measurements):\n",
        "  \"\"\"\n",
        "  Bayes Filter algorithm to estimate the probability that the door is open.\n",
        "\n",
        "  Parameters:\n",
        "  - initial_belief (numpy array): Initial belief about the state probabilities [P(x_t=0), P(x_t=1)].\n",
        "  - actions (list): List of actions taken by the robot (0 for do nothing, 1 for push).\n",
        "  - measurements (list): List of measurements received from the sensor (0 for closed, 1 for open).\n",
        "\n",
        "  Returns:\n",
        "  - final_belief (float): Final estimated probability that the door is open (P(x_t=1)).\n",
        "  \"\"\"\n",
        "  # Initialize the belief with the initial values\n",
        "  current_belief = initial_belief.copy()\n",
        "\n",
        "  # Iterate over the sequence of actions and measurements\n",
        "  for action, measurement in zip(actions, measurements):\n",
        "      # Prediction Step\n",
        "      predicted_belief = prediction(current_belief, action)\n",
        "\n",
        "      # Measurement Update Step\n",
        "      current_belief = update(predicted_belief, measurement)\n",
        "      # print(current_belief)\n",
        "\n",
        "  # The final belief is the probability that the door is open (P(x_t=1))\n",
        "  final_belief = current_belief[1]\n",
        "\n",
        "  return final_belief\n"
      ],
      "metadata": {
        "id": "HzpSWIkraZkl"
      },
      "execution_count": 112,
      "outputs": []
    },
    {
      "cell_type": "markdown",
      "source": [
        "Q1. If the Action is always 0 and measurement is always 1, it takes 9 iterations for the belief that door is open to be greater than 99.99%"
      ],
      "metadata": {
        "id": "xv1ybv5qdU-x"
      }
    },
    {
      "cell_type": "code",
      "source": [
        "# initilaize belief\n",
        "initial_belief = np.array([0.5,0.5])\n",
        "# belief that door is open\n",
        "door_open = initial_belief[1]\n",
        "# define action and measurment values\n",
        "action = [0]\n",
        "measurement = [1]\n",
        "# counter for number of iterations\n",
        "n = 0\n",
        "# calculate belief and count iterations until belief that door is open >=0.9999\n",
        "while(door_open<0.9999):\n",
        "  door_open = bayes_filter(np.array([1-door_open,door_open]),action,measurement)\n",
        "  n += 1\n",
        "\n",
        "# display results\n",
        "print(\"Belief that door is open: \",door_open)\n",
        "print(\"Number of iterations: \",n)"
      ],
      "metadata": {
        "colab": {
          "base_uri": "https://localhost:8080/"
        },
        "id": "3Z3sU9Q7gM1K",
        "outputId": "1a2604d7-07eb-4f49-ec2b-fab3dd9142e7"
      },
      "execution_count": 113,
      "outputs": [
        {
          "output_type": "stream",
          "name": "stdout",
          "text": [
            "Belief that door is open:  0.9999491973176183\n",
            "Number of iterations:  9\n"
          ]
        }
      ]
    },
    {
      "cell_type": "markdown",
      "source": [
        "Q2. If the Action is always 1 and measurement is always 1, it takes 4 iterations for the belief that door is open to be grater than 99.99%"
      ],
      "metadata": {
        "id": "wU4UhA4fiPYG"
      }
    },
    {
      "cell_type": "code",
      "source": [
        "# initilaize belief\n",
        "initial_belief = np.array([0.5,0.5])\n",
        "# belief that door is open\n",
        "door_open = initial_belief[1]\n",
        "# define action and measurment values\n",
        "action = [1]\n",
        "measurement = [1]\n",
        "# counter for number of iterations\n",
        "n = 0\n",
        "# calculate belief and count iterations until belief >=0.9999\n",
        "while(door_open<0.9999):\n",
        "  door_open = bayes_filter(np.array([1-door_open,door_open]),action,measurement)\n",
        "  n += 1\n",
        "\n",
        "# display results\n",
        "print(\"Belief that door is open: \",door_open)\n",
        "print(\"Number of iterations: \",n)"
      ],
      "metadata": {
        "colab": {
          "base_uri": "https://localhost:8080/"
        },
        "id": "hj1Tk9zjiPmA",
        "outputId": "3d4eabc7-2fad-4bcd-d790-c42e7ac45a56"
      },
      "execution_count": 114,
      "outputs": [
        {
          "output_type": "stream",
          "name": "stdout",
          "text": [
            "Belief that door is open:  0.9999893637388586\n",
            "Number of iterations:  4\n"
          ]
        }
      ]
    },
    {
      "cell_type": "markdown",
      "source": [
        "Q3. If the action is always 1 and measurement is always 0, the belief that the door is open reaches max value of '1'. For 1000 action/measurment values, I printed the beliefs for each iteration. I observed that eventually the belief converged to a value of 1 after approx. 22 iterations.\n",
        "\n",
        "The sensor has a 40% chance to sense a false negative , $p(z_t=0 | x_t=1) = 0.4$. Since the action is always 1, the filter might consider these measurements to be noisy and the beleif converges to 1."
      ],
      "metadata": {
        "id": "bihbbLjPilTg"
      }
    },
    {
      "cell_type": "code",
      "source": [
        "# initilaize belief\n",
        "initial_belief = np.array([0.5,0.5])\n",
        "\n",
        "# counter for number of iterations\n",
        "n = 1000\n",
        "# define action and measurment values\n",
        "action = [1]*n\n",
        "measurement = [0]*n\n",
        "\n",
        "door_open = bayes_filter(initial_belief,action,measurement)\n",
        "\n",
        "# display results\n",
        "print(\"Belief that door is open: \",door_open)\n",
        "print(\"Steady state belief: \",[1-door_open,door_open])\n"
      ],
      "metadata": {
        "colab": {
          "base_uri": "https://localhost:8080/"
        },
        "id": "L5_uslwVilnF",
        "outputId": "b606473c-0447-42e9-85e3-06a4535f7319"
      },
      "execution_count": 115,
      "outputs": [
        {
          "output_type": "stream",
          "name": "stdout",
          "text": [
            "Belief that door is open:  1.0\n",
            "Steady state belief:  [0.0, 1.0]\n"
          ]
        }
      ]
    }
  ]
}